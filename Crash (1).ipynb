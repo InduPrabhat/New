{
 "cells": [
  {
   "cell_type": "code",
   "execution_count": 1,
   "metadata": {},
   "outputs": [
    {
     "data": {
      "text/plain": [
       "'C:\\\\Users\\\\iz'"
      ]
     },
     "execution_count": 1,
     "metadata": {},
     "output_type": "execute_result"
    }
   ],
   "source": [
    "import os\n",
    "import pandas as pd\n",
    "import numpy as np\n",
    "import matplotlib.pyplot as plt\n",
    "\n",
    "os.getcwd()"
   ]
  },
  {
   "cell_type": "markdown",
   "metadata": {},
   "source": [
    "# Data Exploration"
   ]
  },
  {
   "cell_type": "code",
   "execution_count": 2,
   "metadata": {},
   "outputs": [
    {
     "name": "stdout",
     "output_type": "stream",
     "text": [
      "<class 'pandas.core.frame.DataFrame'>\n",
      "Int64Index: 80 entries, 1 to 80\n",
      "Data columns (total 6 columns):\n",
      " #   Column   Non-Null Count  Dtype  \n",
      "---  ------   --------------  -----  \n",
      " 0   ManHI    80 non-null     float64\n",
      " 1   ManBI    80 non-null     float64\n",
      " 2   IntI     77 non-null     float64\n",
      " 3   HVACi    80 non-null     float64\n",
      " 4   Safety   80 non-null     float64\n",
      " 5   CarType  80 non-null     object \n",
      "dtypes: float64(5), object(1)\n",
      "memory usage: 4.4+ KB\n"
     ]
    }
   ],
   "source": [
    "crash = pd.read_csv('C:/Users/iz/Desktop/New Folder/CrashTest_TrainData.csv',index_col =0)\n",
    "crash.info()"
   ]
  },
  {
   "cell_type": "code",
   "execution_count": 3,
   "metadata": {},
   "outputs": [
    {
     "data": {
      "text/html": [
       "<div>\n",
       "<style scoped>\n",
       "    .dataframe tbody tr th:only-of-type {\n",
       "        vertical-align: middle;\n",
       "    }\n",
       "\n",
       "    .dataframe tbody tr th {\n",
       "        vertical-align: top;\n",
       "    }\n",
       "\n",
       "    .dataframe thead th {\n",
       "        text-align: right;\n",
       "    }\n",
       "</style>\n",
       "<table border=\"1\" class=\"dataframe\">\n",
       "  <thead>\n",
       "    <tr style=\"text-align: right;\">\n",
       "      <th></th>\n",
       "      <th>ManHI</th>\n",
       "      <th>ManBI</th>\n",
       "      <th>IntI</th>\n",
       "      <th>HVACi</th>\n",
       "      <th>Safety</th>\n",
       "      <th>CarType</th>\n",
       "    </tr>\n",
       "    <tr>\n",
       "      <th>CarID</th>\n",
       "      <th></th>\n",
       "      <th></th>\n",
       "      <th></th>\n",
       "      <th></th>\n",
       "      <th></th>\n",
       "      <th></th>\n",
       "    </tr>\n",
       "  </thead>\n",
       "  <tbody>\n",
       "    <tr>\n",
       "      <th>1</th>\n",
       "      <td>-5.27</td>\n",
       "      <td>-1.30</td>\n",
       "      <td>2.86</td>\n",
       "      <td>-4.85</td>\n",
       "      <td>4.04</td>\n",
       "      <td>SUV</td>\n",
       "    </tr>\n",
       "    <tr>\n",
       "      <th>2</th>\n",
       "      <td>-4.82</td>\n",
       "      <td>-5.38</td>\n",
       "      <td>9.72</td>\n",
       "      <td>-0.97</td>\n",
       "      <td>-4.57</td>\n",
       "      <td>Hatchback</td>\n",
       "    </tr>\n",
       "    <tr>\n",
       "      <th>3</th>\n",
       "      <td>9.57</td>\n",
       "      <td>-7.50</td>\n",
       "      <td>-7.61</td>\n",
       "      <td>1.33</td>\n",
       "      <td>-5.10</td>\n",
       "      <td>Hatchback</td>\n",
       "    </tr>\n",
       "    <tr>\n",
       "      <th>4</th>\n",
       "      <td>2.84</td>\n",
       "      <td>-2.85</td>\n",
       "      <td>0.92</td>\n",
       "      <td>5.51</td>\n",
       "      <td>-6.64</td>\n",
       "      <td>Hatchback</td>\n",
       "    </tr>\n",
       "    <tr>\n",
       "      <th>5</th>\n",
       "      <td>0.00</td>\n",
       "      <td>2.68</td>\n",
       "      <td>-4.15</td>\n",
       "      <td>0.85</td>\n",
       "      <td>5.58</td>\n",
       "      <td>SUV</td>\n",
       "    </tr>\n",
       "  </tbody>\n",
       "</table>\n",
       "</div>"
      ],
      "text/plain": [
       "       ManHI  ManBI  IntI  HVACi  Safety    CarType\n",
       "CarID                                              \n",
       "1      -5.27  -1.30  2.86  -4.85    4.04        SUV\n",
       "2      -4.82  -5.38  9.72  -0.97   -4.57  Hatchback\n",
       "3       9.57  -7.50 -7.61   1.33   -5.10  Hatchback\n",
       "4       2.84  -2.85  0.92   5.51   -6.64  Hatchback\n",
       "5       0.00   2.68 -4.15   0.85    5.58        SUV"
      ]
     },
     "execution_count": 3,
     "metadata": {},
     "output_type": "execute_result"
    }
   ],
   "source": [
    "data=crash.copy()\n",
    "data.head()"
   ]
  },
  {
   "cell_type": "markdown",
   "metadata": {},
   "source": [
    "# Q) How many distinct car types are there in the Train_Data?"
   ]
  },
  {
   "cell_type": "code",
   "execution_count": 4,
   "metadata": {},
   "outputs": [
    {
     "data": {
      "text/html": [
       "<div>\n",
       "<style scoped>\n",
       "    .dataframe tbody tr th:only-of-type {\n",
       "        vertical-align: middle;\n",
       "    }\n",
       "\n",
       "    .dataframe tbody tr th {\n",
       "        vertical-align: top;\n",
       "    }\n",
       "\n",
       "    .dataframe thead th {\n",
       "        text-align: right;\n",
       "    }\n",
       "</style>\n",
       "<table border=\"1\" class=\"dataframe\">\n",
       "  <thead>\n",
       "    <tr style=\"text-align: right;\">\n",
       "      <th>col_0</th>\n",
       "      <th>Count</th>\n",
       "    </tr>\n",
       "    <tr>\n",
       "      <th>CarType</th>\n",
       "      <th></th>\n",
       "    </tr>\n",
       "  </thead>\n",
       "  <tbody>\n",
       "    <tr>\n",
       "      <th>Hatchback</th>\n",
       "      <td>50</td>\n",
       "    </tr>\n",
       "    <tr>\n",
       "      <th>SUV</th>\n",
       "      <td>30</td>\n",
       "    </tr>\n",
       "  </tbody>\n",
       "</table>\n",
       "</div>"
      ],
      "text/plain": [
       "col_0      Count\n",
       "CarType         \n",
       "Hatchback     50\n",
       "SUV           30"
      ]
     },
     "execution_count": 4,
     "metadata": {},
     "output_type": "execute_result"
    }
   ],
   "source": [
    "cart = pd.crosstab(index = data['CarType'], columns='Count')\n",
    "cart\n",
    "#Binary Classification"
   ]
  },
  {
   "cell_type": "markdown",
   "metadata": {},
   "source": [
    "# Q) How many missing values are there in Train_Data?"
   ]
  },
  {
   "cell_type": "code",
   "execution_count": 5,
   "metadata": {},
   "outputs": [
    {
     "data": {
      "text/plain": [
       "ManHI      0\n",
       "ManBI      0\n",
       "IntI       3\n",
       "HVACi      0\n",
       "Safety     0\n",
       "CarType    0\n",
       "dtype: int64"
      ]
     },
     "execution_count": 5,
     "metadata": {},
     "output_type": "execute_result"
    }
   ],
   "source": [
    "data.isnull().sum()# Number of NUll values"
   ]
  },
  {
   "cell_type": "code",
   "execution_count": 6,
   "metadata": {},
   "outputs": [
    {
     "name": "stdout",
     "output_type": "stream",
     "text": [
      "<class 'pandas.core.frame.DataFrame'>\n",
      "Int64Index: 20 entries, 81 to 100\n",
      "Data columns (total 6 columns):\n",
      " #   Column   Non-Null Count  Dtype  \n",
      "---  ------   --------------  -----  \n",
      " 0   ManHI    20 non-null     float64\n",
      " 1   ManBI    20 non-null     float64\n",
      " 2   IntI     20 non-null     float64\n",
      " 3   HVACi    20 non-null     float64\n",
      " 4   Safety   20 non-null     float64\n",
      " 5   CarType  20 non-null     object \n",
      "dtypes: float64(5), object(1)\n",
      "memory usage: 1.1+ KB\n"
     ]
    }
   ],
   "source": [
    "test = pd.read_csv('C:/Users/iz/Desktop/New Folder/CrashTest_TestData.csv',index_col =0)\n",
    "testc = test.copy()\n",
    "testc.info()"
   ]
  },
  {
   "cell_type": "code",
   "execution_count": 7,
   "metadata": {},
   "outputs": [
    {
     "data": {
      "text/plain": [
       "ManHI      0\n",
       "ManBI      0\n",
       "IntI       0\n",
       "HVACi      0\n",
       "Safety     0\n",
       "CarType    0\n",
       "dtype: int64"
      ]
     },
     "execution_count": 7,
     "metadata": {},
     "output_type": "execute_result"
    }
   ],
   "source": [
    "testc.isnull().sum()"
   ]
  },
  {
   "cell_type": "markdown",
   "metadata": {},
   "source": [
    "# Q) What is the proportion of car types in the Test_Data?"
   ]
  },
  {
   "cell_type": "code",
   "execution_count": 8,
   "metadata": {},
   "outputs": [
    {
     "data": {
      "text/plain": [
       "SUV          10\n",
       "Hatchback    10\n",
       "Name: CarType, dtype: int64"
      ]
     },
     "execution_count": 8,
     "metadata": {},
     "output_type": "execute_result"
    }
   ],
   "source": [
    "testc['CarType'].value_counts()"
   ]
  },
  {
   "cell_type": "markdown",
   "metadata": {},
   "source": [
    "# Q) What is the difference between third quartile values of the variable ManBI from Train_Data and Test_Data?"
   ]
  },
  {
   "cell_type": "code",
   "execution_count": 9,
   "metadata": {},
   "outputs": [
    {
     "name": "stdout",
     "output_type": "stream",
     "text": [
      "0.9175\n"
     ]
    }
   ],
   "source": [
    "B = data['ManBI'].median()\n",
    "B1 = testc['ManBI'].median()\n",
    "CrQ3 = np.quantile(data['ManBI'], .75)\n",
    "CtQ3 = np.quantile(testc['ManBI'], .75)\n",
    "diff = CrQ3 - CtQ3\n",
    "print(diff)"
   ]
  },
  {
   "cell_type": "markdown",
   "metadata": {},
   "source": [
    "Train Set: Has 3 Null Values\n",
    "<br>Test Set : Has NO Null values"
   ]
  },
  {
   "cell_type": "code",
   "execution_count": 10,
   "metadata": {},
   "outputs": [
    {
     "name": "stdout",
     "output_type": "stream",
     "text": [
      "<class 'pandas.core.frame.DataFrame'>\n",
      "Int64Index: 80 entries, 1 to 80\n",
      "Data columns (total 6 columns):\n",
      " #   Column   Non-Null Count  Dtype  \n",
      "---  ------   --------------  -----  \n",
      " 0   ManHI    80 non-null     float64\n",
      " 1   ManBI    80 non-null     float64\n",
      " 2   IntI     77 non-null     float64\n",
      " 3   HVACi    80 non-null     float64\n",
      " 4   Safety   80 non-null     float64\n",
      " 5   CarType  80 non-null     object \n",
      "dtypes: float64(5), object(1)\n",
      "memory usage: 4.4+ KB\n",
      "\n",
      "----------------------------After Imputation------------------------------\n",
      "\n",
      "<class 'pandas.core.frame.DataFrame'>\n",
      "Int64Index: 80 entries, 1 to 80\n",
      "Data columns (total 6 columns):\n",
      " #   Column   Non-Null Count  Dtype  \n",
      "---  ------   --------------  -----  \n",
      " 0   ManHI    80 non-null     float64\n",
      " 1   ManBI    80 non-null     float64\n",
      " 2   IntI     80 non-null     float64\n",
      " 3   HVACi    80 non-null     float64\n",
      " 4   Safety   80 non-null     float64\n",
      " 5   CarType  80 non-null     object \n",
      "dtypes: float64(5), object(1)\n",
      "memory usage: 4.4+ KB\n"
     ]
    }
   ],
   "source": [
    "# we can Either Remove the coloumns with null values or Impute them with mean ,median or mode.\n",
    "data.info()\n",
    "data['IntI'].fillna(data['IntI'].mean(), inplace=True)\n",
    "print(\"\\n----------------------------After Imputation------------------------------\\n\")\n",
    "data.info()"
   ]
  },
  {
   "cell_type": "code",
   "execution_count": 11,
   "metadata": {},
   "outputs": [
    {
     "data": {
      "text/plain": [
       "(80, 6)"
      ]
     },
     "execution_count": 11,
     "metadata": {},
     "output_type": "execute_result"
    }
   ],
   "source": [
    "data.shape"
   ]
  },
  {
   "cell_type": "markdown",
   "metadata": {},
   "source": [
    "# Buliding Model\n",
    "Follow the steps given below to build the classifier models: \n",
    "<br>• Drop the missing values \n",
    "<br>• Ensure the datatypes of the columns are appropriate\n",
    "<br>• Map the categorical variables into integers"
   ]
  },
  {
   "cell_type": "code",
   "execution_count": 12,
   "metadata": {},
   "outputs": [
    {
     "name": "stdout",
     "output_type": "stream",
     "text": [
      "<class 'pandas.core.frame.DataFrame'>\n",
      "Int64Index: 80 entries, 1 to 80\n",
      "Data columns (total 6 columns):\n",
      " #   Column   Non-Null Count  Dtype  \n",
      "---  ------   --------------  -----  \n",
      " 0   ManHI    80 non-null     float64\n",
      " 1   ManBI    80 non-null     float64\n",
      " 2   IntI     77 non-null     float64\n",
      " 3   HVACi    80 non-null     float64\n",
      " 4   Safety   80 non-null     float64\n",
      " 5   CarType  80 non-null     object \n",
      "dtypes: float64(5), object(1)\n",
      "memory usage: 4.4+ KB\n"
     ]
    }
   ],
   "source": [
    "train=crash.copy()\n",
    "train.info()"
   ]
  },
  {
   "cell_type": "code",
   "execution_count": 13,
   "metadata": {},
   "outputs": [
    {
     "name": "stdout",
     "output_type": "stream",
     "text": [
      "<class 'pandas.core.frame.DataFrame'>\n",
      "Int64Index: 77 entries, 1 to 80\n",
      "Data columns (total 6 columns):\n",
      " #   Column   Non-Null Count  Dtype  \n",
      "---  ------   --------------  -----  \n",
      " 0   ManHI    77 non-null     float64\n",
      " 1   ManBI    77 non-null     float64\n",
      " 2   IntI     77 non-null     float64\n",
      " 3   HVACi    77 non-null     float64\n",
      " 4   Safety   77 non-null     float64\n",
      " 5   CarType  77 non-null     object \n",
      "dtypes: float64(5), object(1)\n",
      "memory usage: 4.2+ KB\n"
     ]
    }
   ],
   "source": [
    "train=train.dropna()\n",
    "train.info()\n",
    "# Dropped Columns with null values"
   ]
  },
  {
   "cell_type": "code",
   "execution_count": 14,
   "metadata": {},
   "outputs": [
    {
     "data": {
      "text/plain": [
       "array([1, 0, 0, 0, 1, 1, 0, 0, 0, 1, 0, 1, 1, 0, 0, 0, 0, 1, 1, 1, 0, 0,\n",
       "       1, 0, 0, 0, 0, 0, 0, 0, 1, 0, 0, 1, 1, 1, 1, 1, 1, 0, 0, 1, 1, 0,\n",
       "       0, 0, 1, 1, 1, 0, 0, 0, 0, 1, 1, 0, 0, 0, 0, 0, 0, 1, 0, 1, 0, 1,\n",
       "       0, 0, 0, 0, 1, 0, 0, 1, 1, 0, 0])"
      ]
     },
     "execution_count": 14,
     "metadata": {},
     "output_type": "execute_result"
    }
   ],
   "source": [
    "from sklearn import preprocessing as p\n",
    "label=train['CarType']\n",
    "label[0:10]\n",
    "le=p.LabelEncoder()\n",
    "le.fit(label)\n",
    "label=le.transform(label)\n",
    "label#Catagorical Mapping"
   ]
  },
  {
   "cell_type": "code",
   "execution_count": 15,
   "metadata": {},
   "outputs": [
    {
     "name": "stdout",
     "output_type": "stream",
     "text": [
      "<class 'pandas.core.frame.DataFrame'>\n",
      "Int64Index: 77 entries, 1 to 80\n",
      "Data columns (total 5 columns):\n",
      " #   Column  Non-Null Count  Dtype  \n",
      "---  ------  --------------  -----  \n",
      " 0   ManHI   77 non-null     float64\n",
      " 1   ManBI   77 non-null     float64\n",
      " 2   IntI    77 non-null     float64\n",
      " 3   HVACi   77 non-null     float64\n",
      " 4   Safety  77 non-null     float64\n",
      "dtypes: float64(5)\n",
      "memory usage: 3.6 KB\n"
     ]
    }
   ],
   "source": [
    "#remove Target fom dataframe\n",
    "train=train.drop(columns=['CarType'])\n",
    "train.info()"
   ]
  },
  {
   "cell_type": "code",
   "execution_count": 16,
   "metadata": {},
   "outputs": [
    {
     "data": {
      "text/plain": [
       "array([0, 1, 0, 0, 0, 0, 1, 1, 1, 1, 1, 0, 1, 1, 1, 1, 0, 0, 0, 0])"
      ]
     },
     "execution_count": 16,
     "metadata": {},
     "output_type": "execute_result"
    }
   ],
   "source": [
    "#remove Target fom dataframe and storing in list\n",
    "actual_labels=testc['CarType']\n",
    "testc=testc.drop(columns=['CarType'])\n",
    "# map Lables\n",
    "le.fit(actual_labels)\n",
    "actual_labels=le.transform(actual_labels)\n",
    "actual_labels#Catagorical Mapping \"SUV\"=1 \"Hatchback\"=0"
   ]
  },
  {
   "cell_type": "code",
   "execution_count": 17,
   "metadata": {},
   "outputs": [
    {
     "data": {
      "text/plain": [
       "KNeighborsClassifier(algorithm='auto', leaf_size=30, metric='minkowski',\n",
       "                     metric_params=None, n_jobs=None, n_neighbors=2, p=2,\n",
       "                     weights='uniform')"
      ]
     },
     "execution_count": 17,
     "metadata": {},
     "output_type": "execute_result"
    }
   ],
   "source": [
    "from sklearn.neighbors import KNeighborsClassifier\n",
    "# Initiate KNN classifier\n",
    "model_1 = KNeighborsClassifier(n_neighbors = 3) \n",
    "model_2 = KNeighborsClassifier(n_neighbors = 2)\n",
    "\n",
    "# Fit the classifier to the data\n",
    "model_1.fit(train,label)\n",
    "model_2.fit(train,label)\n"
   ]
  },
  {
   "cell_type": "code",
   "execution_count": 18,
   "metadata": {},
   "outputs": [],
   "source": [
    "#test results"
   ]
  },
  {
   "cell_type": "markdown",
   "metadata": {},
   "source": [
    "# Q) Identify the list of indices of misclassified samples from the ‘model_1’."
   ]
  },
  {
   "cell_type": "code",
   "execution_count": 19,
   "metadata": {},
   "outputs": [
    {
     "name": "stdout",
     "output_type": "stream",
     "text": [
      "Predicted Lables    : [1 0 0 0 0 0 1 0 0 1 0 0 1 1 0 1 0 0 0 0]\n",
      "Actual Lables       : [0 1 0 0 0 0 1 1 1 1 1 0 1 1 1 1 0 0 0 0]\n",
      "Indices of Misclassified labels:\n",
      "\n",
      "0 1 7 8 10 14 "
     ]
    }
   ],
   "source": [
    "pred=model_1.predict(testc)\n",
    "print(\"Predicted Lables    :\",pred)\n",
    "print(\"Actual Lables       :\",actual_labels)\n",
    "print(\"Indices of Misclassified labels:\\n\")\n",
    "for i in range(0,len(actual_labels)):\n",
    "    if pred[i]!=actual_labels[i]:\n",
    "        print(i,end=\" \")"
   ]
  },
  {
   "cell_type": "markdown",
   "metadata": {},
   "source": [
    "# Q) Rebuild the model (model_2) with 2 neighbors keeping the other modelling steps constant. Compare results of the two models (model_1 &amp; model_2)."
   ]
  },
  {
   "cell_type": "code",
   "execution_count": 20,
   "metadata": {},
   "outputs": [
    {
     "name": "stdout",
     "output_type": "stream",
     "text": [
      "model_1: 0.7\n",
      "model_2: 0.7\n"
     ]
    }
   ],
   "source": [
    "#Model_1 Accuracy (3NN) \n",
    "print(\"model_1:\",model_1.score(testc,actual_labels))\n",
    "\n",
    "#Model_2 Accuracy (2NN)\n",
    "print(\"model_2:\",model_2.score(testc,actual_labels))"
   ]
  },
  {
   "cell_type": "markdown",
   "metadata": {},
   "source": [
    "# Q) Build a logistic regression model (model_3) keeping the modelling steps constant. The accuracy of the model_3"
   ]
  },
  {
   "cell_type": "code",
   "execution_count": 21,
   "metadata": {},
   "outputs": [
    {
     "name": "stdout",
     "output_type": "stream",
     "text": [
      "predicions of model_3: [0 1 0 0 0 0 1 1 1 1 1 0 1 1 1 1 0 0 0 0]\n",
      "Actual               : [0 1 0 0 0 0 1 1 1 1 1 0 1 1 1 1 0 0 0 0]\n",
      "Accuracy: 1.0\n"
     ]
    }
   ],
   "source": [
    "from sklearn.linear_model import LogisticRegression\n",
    "\n",
    "# instantiate the model\n",
    "\n",
    "model_3 = LogisticRegression()\n",
    "\n",
    "# fit the model with data\n",
    "model_3.fit(train,label)\n",
    "\n",
    "#get predictions\n",
    "pred=model_3.predict(testc)\n",
    "print(\"predicions of model_3:\",pred)\n",
    "print(\"Actual               :\",actual_labels)\n",
    "\n",
    "# Accuracy\n",
    "print(\"Accuracy:\",model_3.score(testc,actual_labels))"
   ]
  },
  {
   "cell_type": "code",
   "execution_count": null,
   "metadata": {},
   "outputs": [],
   "source": []
  }
 ],
 "metadata": {
  "kernelspec": {
   "display_name": "Python 3.7 (tensorflow)",
   "language": "python",
   "name": "tensorflow"
  },
  "language_info": {
   "codemirror_mode": {
    "name": "ipython",
    "version": 3
   },
   "file_extension": ".py",
   "mimetype": "text/x-python",
   "name": "python",
   "nbconvert_exporter": "python",
   "pygments_lexer": "ipython3",
   "version": "3.7.6"
  }
 },
 "nbformat": 4,
 "nbformat_minor": 4
}
